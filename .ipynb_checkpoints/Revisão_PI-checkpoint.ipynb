{
 "cells": [
  {
   "cell_type": "markdown",
   "metadata": {},
   "source": [
    "# Revisão com algumas funções importantes para a PI de RobComp"
   ]
  },
  {
   "cell_type": "code",
   "execution_count": 1,
   "metadata": {},
   "outputs": [],
   "source": [
    "import cv2\n",
    "import numpy as np"
   ]
  },
  {
   "cell_type": "markdown",
   "metadata": {},
   "source": [
    "# OpenCV"
   ]
  },
  {
   "cell_type": "markdown",
   "metadata": {},
   "source": [
    "## Transformando Imagens"
   ]
  },
  {
   "cell_type": "code",
   "execution_count": null,
   "metadata": {},
   "outputs": [],
   "source": [
    "# Transformar imagem em RGB\n",
    "img_rgb = cv2.cvtColor(img, cv2.COLOR_BGR2RGB)\n",
    "\n",
    "# Transformar imagem em HSV\n",
    "img_hsv = cv2.cvtColor(img, cv2.COLOR_BGR2HSV)\n",
    "\n",
    "# Transforma em GRAY\n",
    "img_gray = cv2.cvtColor(img, cv2.COLOR_BGR2GRAY)"
   ]
  },
  {
   "cell_type": "markdown",
   "metadata": {},
   "source": [
    "## Criando Máscaras"
   ]
  },
  {
   "cell_type": "code",
   "execution_count": null,
   "metadata": {},
   "outputs": [],
   "source": [
    "hsv_lower = np.array([0, 0, 0])\n",
    "hsv_upper = np.array([255, 255, 255])\n",
    "\n",
    "mask = cv2.inRange(img_hsv, hsv_lower, hsv_upper)\n",
    "\n",
    "# Juntando Máscaras\n",
    "mask_junta = cv2.bitwise_or(mask1, mask2)\n",
    "\n",
    "# Se for necessário, podemos suavisar as bordas da imagem com a seguinte função:\n",
    "kernel=np.ones((4,4), np.uint8)\n",
    "mask = cv2.morphologyEx(mask, cv2.MORPH_OPEN, kernel) "
   ]
  },
  {
   "cell_type": "markdown",
   "metadata": {},
   "source": [
    "## Contornos"
   ]
  },
  {
   "cell_type": "markdown",
   "metadata": {},
   "source": [
    "### Achar Contornos\n",
    "- `mask` é a imagem com a máscara binária\n",
    "- `cv2.RETR_CCOMP` indica que queremos organizar os contornos em componentes conexos e buracos dentro deles\n",
    "- `cv2.CHAIN_APPROX_NONE` indica que queremos armazenar todos os pontos do contorno\n",
    "- `contours` é uma lista de contornos, contendo os pontos a ele pertencententes (x, y)\n",
    "- `hierarchy` é uma lista indicando a organização dos contornos em termos dos componentes e de seus buracos\n",
    "\n",
    "A função retorna três valores: os contornos propriamente ditos, a hierarquia dos contornos e o método de aproximação de contornos utilizado.\n",
    "\n",
    "- Contornos: é uma lista Python de todos os contornos encontrados na imagem. Cada contorno é representado por uma matriz NumPy de pontos (x,y) que o formam.\n",
    "- Hierarquia: é uma matriz NumPy que define a relação de cada contorno com os outros contornos encontrados. Ela pode ser usada para identificar contornos internos ou externos, por exemplo.\n",
    "- Método de aproximação de contornos: é um parâmetro opcional que define o método de aproximação de contornos utilizado. O valor padrão é cv2.CHAIN_APPROX_SIMPLE.\n"
   ]
  },
  {
   "cell_type": "code",
   "execution_count": null,
   "metadata": {},
   "outputs": [],
   "source": [
    "# É possível encontrar componente conexos em imagens tons de cinza através da função cv2.findContours(). Ela considera pixels de valor maior do que 0 como pixels de interesse\n",
    "contornos, hierarchy = cv2.findContours(mask, cv2.RETR_CCOMP, cv2.CHAIN_APPROX_NONE)"
   ]
  },
  {
   "cell_type": "markdown",
   "metadata": {},
   "source": [
    "### Printar Contornos\n",
    "- `imagem` é a imagem colorida ou tons de cinza a receber o contorno\n",
    "- `contours` é a lista de contornos obtida com `cv2.findContours()`\n",
    "- `indice` é o índice do contorno dentro da lista a ser desenhado; se indice < 0 desenha todos os contornos\n",
    "- `cor` é a cor do pixel a ser usada para desenhar o contorno   "
   ]
  },
  {
   "cell_type": "code",
   "execution_count": null,
   "metadata": {},
   "outputs": [],
   "source": [
    "# Mostrar contornos na imagem\n",
    "cv2.drawContours(img, contornos, indice, cor)\n",
    "\n",
    "# Exemplo:\n",
    "cv2.drawContours(img, contornos, -1, [0, 0, 255], 3) # 3 representa a espessura do contorno"
   ]
  },
  {
   "cell_type": "markdown",
   "metadata": {},
   "source": [
    "## Área, Centro de Massa e Texto na Tela"
   ]
  },
  {
   "cell_type": "code",
   "execution_count": null,
   "metadata": {},
   "outputs": [],
   "source": [
    "# Área dos contornos:\n",
    "area = cv2.contourArea(contours[indice]) # Recebe apenas um contorno por vez\n",
    "\n",
    "# Retorna a área em pixels"
   ]
  },
  {
   "cell_type": "code",
   "execution_count": null,
   "metadata": {},
   "outputs": [],
   "source": [
    "# Centro de Massa\n",
    "def center_of_contour(contorno): # Recebe apenas um contorno por vez\n",
    "    \"\"\" Retorna uma tupla (cx, cy) que desenha o centro do contorno\"\"\"\n",
    "    M = cv2.moments(contorno)\n",
    "    # Usando a expressão do centróide definida em: https://en.wikipedia.org/wiki/Image_moment\n",
    "    cX = int(M[\"m10\"] / M[\"m00\"])\n",
    "    cY = int(M[\"m01\"] / M[\"m00\"])\n",
    "    return (int(cX), int(cY))\n",
    "    \n",
    "def crosshair(img, point, size, color):\n",
    "    \"\"\" Desenha um crosshair centrado no point.\n",
    "        point deve ser uma tupla (x,y)\n",
    "        color é uma tupla R,G,B uint8\n",
    "    \"\"\"\n",
    "    x,y = point\n",
    "    cv2.line(img,(x - size,y),(x + size,y),color,5)\n",
    "    cv2.line(img,(x,y - size),(x, y + size),color,5)\n",
    "    \n",
    "font = cv2.FONT_HERSHEY_SIMPLEX\n",
    "\n",
    "def texto(img, a, p):\n",
    "    \"\"\"Escreve na img RGB dada a string a na posição definida pela tupla p\"\"\"\n",
    "    cv2.putText(img, str(a), p, cv2.FONT_HERSHEY_SIMPLEX,1,(255,0,0),2,cv2.LINE_AA)"
   ]
  },
  {
   "cell_type": "code",
   "execution_count": null,
   "metadata": {},
   "outputs": [],
   "source": [
    "# Exemplo:\n",
    "# Vamos percorrer a lista de contornos e aplicar as funções de centro de massa definidas acima\n",
    "\n",
    "for c in contornos:\n",
    "    a = cv2.contourArea(c) # área\n",
    "    p = center_of_contour(c) # centro de massa\n",
    "    crosshair(img, p, 20, (128,128,0)) # desenha o crosshair\n",
    "    texto(img, np.round(a,2),p) # escreve a área"
   ]
  },
  {
   "cell_type": "markdown",
   "metadata": {},
   "source": [
    "## Bordas\n",
    "- `mask`: máscara com valores em preto e branco.\n",
    "- `threshold1`: O valor mínimo do limiar para a detecção de bordas. Qualquer borda com intensidade abaixo desse valor será descartada.\n",
    "- `threshold2`: O valor máximo do limiar para a detecção de bordas. Qualquer borda com intensidade acima desse valor será considerada uma borda verdadeira."
   ]
  },
  {
   "cell_type": "code",
   "execution_count": null,
   "metadata": {},
   "outputs": [],
   "source": [
    "# Bordas utilizando o Canny:\n",
    "bordas = cv2.Canny(mask, 100, 200) # vamos padronizar o uso de 100 e 200 como limiares mas é possível alterar\n",
    "\n",
    "# Retorna a imagem com as bordas em preto e fundo em branco"
   ]
  },
  {
   "cell_type": "markdown",
   "metadata": {},
   "source": [
    "## Linhas"
   ]
  },
  {
   "cell_type": "markdown",
   "metadata": {},
   "source": [
    "- `image`: A imagem de entrada, que pode ser uma matriz NumPy ou um objeto cv2.Mat.\n",
    "- `rho`: A resolução do parâmetro rho da transformada de Hough em pixels. Geralmente é 1.\n",
    "- `theta`: A resolução do parâmetro theta da transformada de Hough em radianos. Geralmente é np.pi/180, que é aproximadamente 1 grau.\n",
    "- `threshold`: O valor do limiar usado para a detecção de linhas. A função irá retornar apenas as linhas que têm um número de votos maior do que o valor de limiar.\n",
    "- `minLineLength`: O comprimento mínimo da linha a ser detectada. Qualquer linha com comprimento abaixo desse valor será descartada.\n",
    "- `maxLineGap`: A distância máxima permitida entre segmentos de linha para serem conectados em uma única linha. Qualquer lacuna entre segmentos de linha maior do que esse valor será considerada como duas linhas separadas.\n",
    "- A função retorna uma matriz NumPy que representa as linhas detectadas na imagem. Cada linha é representada por um vetor de quatro elementos [x1 (inicial), y1 (inicial), x2 (final), y2 (final)] que especifica as coordenadas dos dois pontos que definem a linha."
   ]
  },
  {
   "cell_type": "code",
   "execution_count": null,
   "metadata": {},
   "outputs": [],
   "source": [
    "linhas = cv2.HoughLinesP(bordas, 10, np.pi/180.0, threshold=150, minLineLength=50, maxLineGap=70) # Apenas um exemplo, pode ser alterado"
   ]
  },
  {
   "cell_type": "markdown",
   "metadata": {},
   "source": [
    "## Círculos\n",
    "- `image`: Imagem de 8 bits onde as circunferências serão procuradas\n",
    "- `method`: método usado para encontrar os possíveis centros de cada circunferência. Aqui vamos usar `cv2.HOUGH_GRADIENT`.\n",
    "- `dp`: resolução usada na procura pelos centros das circunferências\n",
    "- `minDist`: menor distância permitida entre os centros das circunferências encontradas\n",
    "- `param1`: limiar empregado na detecção dos pontos de borda\n",
    "- `param2`: limiar de detecção da circunferência\n",
    "- `minRadius`: menor raio da circunferência a ser encontradas\n",
    "- `maxRadius`: maior raio da circunferência a ser encontradas\n",
    "- A função retorna uma matriz NumPy que representa os círculos detectados na imagem. Cada círculo é representado por um vetor de três elementos [x, y, r] que especifica as coordenadas do centro do círculo e seu raio."
   ]
  },
  {
   "cell_type": "code",
   "execution_count": null,
   "metadata": {},
   "outputs": [],
   "source": [
    "# Primeiro vamos transformar a imagem em tons de cinza\n",
    "grey = cv2.cvtColor(img, cv2.COLOR_BGR2GRAY)\n",
    "\n",
    "# Vamos achar os círculos (valores arbitrários)\n",
    "circles = cv2.HoughCircles(grey,\n",
    "                          cv2.HOUGH_GRADIENT,\n",
    "                          dp=1,\n",
    "                          minDist=20,\n",
    "                          param1=50, \n",
    "                          param2=30,\n",
    "                          minRadius=17,\n",
    "                          maxRadius=50)\n",
    "circles = np.uint16(np.around(circles))"
   ]
  },
  {
   "cell_type": "markdown",
   "metadata": {},
   "source": [
    "# MobileNet"
   ]
  },
  {
   "cell_type": "markdown",
   "metadata": {},
   "source": []
  }
 ],
 "metadata": {
  "kernelspec": {
   "display_name": "Python 3 (ipykernel)",
   "language": "python",
   "name": "python3"
  },
  "language_info": {
   "codemirror_mode": {
    "name": "ipython",
    "version": 3
   },
   "file_extension": ".py",
   "mimetype": "text/x-python",
   "name": "python",
   "nbconvert_exporter": "python",
   "pygments_lexer": "ipython3",
   "version": "3.8.10"
  }
 },
 "nbformat": 4,
 "nbformat_minor": 2
}
